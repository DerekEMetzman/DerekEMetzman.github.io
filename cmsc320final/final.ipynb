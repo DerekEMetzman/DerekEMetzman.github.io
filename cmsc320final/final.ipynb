import pandas as pd
import seaborn as sns

tinder_table = pd.read_csv("Tinder Millennial Match Rate Dataset.csv")
tinder_table
